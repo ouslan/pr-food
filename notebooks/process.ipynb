{
 "cells": [
  {
   "cell_type": "code",
   "execution_count": null,
   "id": "2d1fe761",
   "metadata": {},
   "outputs": [],
   "source": [
    "import os\n",
    "os.chdir(\"..\")"
   ]
  },
  {
   "cell_type": "code",
   "execution_count": null,
   "id": "0cb3f085",
   "metadata": {},
   "outputs": [],
   "source": [
    "import polars as pl\n",
    "import pandas as pd\n",
    "import geopandas as gpd\n",
    "import altair as alt\n",
    "from src.data.data_process import FoodDeseart\n",
    "from shapely import wkt\n",
    "from pysal.lib import weights\n",
    "import spreg\n",
    "dc = FoodDeseart()"
   ]
  },
  {
   "cell_type": "code",
   "execution_count": null,
   "id": "e400e042",
   "metadata": {},
   "outputs": [],
   "source": [
    "dc.make_dataset()"
   ]
  },
  {
   "cell_type": "code",
   "execution_count": null,
   "id": "74288d80",
   "metadata": {},
   "outputs": [],
   "source": [
    "death_df = dc.process_death()\n",
    "gdf = dc.food_data()\n",
    "\n",
    "dp03_df = dc.pull_dp03()\n",
    "dp03_df = dp03_df.with_columns(qtr=4)\n",
    "gdf = gdf.merge(\n",
    "    dp03_df.to_pandas(),\n",
    "    on=[\"year\", \"qtr\", \"zipcode\"],\n",
    "    how=\"inner\",\n",
    "    validate=\"1:1\",\n",
    ")\n",
    "gdf = gdf.sort_values(by=[\"zipcode\", \"year\", \"qtr\"]).reset_index(drop=True)\n",
    "columns = [\n",
    "    \"total_population\",\n",
    "    \"inc_25k_35k\",\n",
    "    \"inc_35k_50k\",\n",
    "    \"inc_50k_75k\",\n",
    "    \"inc_75k_100k\",\n",
    "    \"inc_100k_150k\",\n",
    "    \"inc_150k_200k\",\n",
    "    \"inc_more_200k\",\n",
    "]\n",
    "for col in columns:\n",
    "    gdf[col] = gdf.groupby(\"zipcode\")[col].transform(\n",
    "        lambda group: group.interpolate(method=\"cubic\")\n",
    "    )\n",
    "gdf = gdf.merge(\n",
    "    death_df.to_pandas(),\n",
    "    on=[\"year\", \"qtr\", \"zipcode\"],\n",
    "    how=\"left\",\n",
    "    validate=\"1:1\",\n",
    ")\n",
    "\n",
    "gdf[\"paracites_by_pop\"] = gdf[\"paracites_disease\"] / gdf[\"total_population\"]\n",
    "gdf[\"cancer_by_pop\"] = gdf[\"cancer_disease\"] / gdf[\"total_population\"]\n",
    "gdf[\"nervous_by_pop\"] = gdf[\"nervous_disease\"] / gdf[\"total_population\"]\n",
    "gdf[\"respiratory_by_pop\"] = gdf[\"respiratory_disease\"] / gdf[\"total_population\"]\n",
    "gdf[\"circulatory_by_pop\"] = gdf[\"circulatory_disease\"] / gdf[\"total_population\"]\n",
    "\n",
    "gdf = gdf.sort_values(by=[\"year\", \"qtr\", \"zipcode\"]).reset_index(drop=True)\n",
    "w = weights.Queen.from_dataframe(gdf[(gdf[\"year\"] == 2017) & (gdf[\"qtr\"] == 1)])\n",
    "spatial_lag_results = []"
   ]
  },
  {
   "cell_type": "code",
   "execution_count": null,
   "id": "c03434f1",
   "metadata": {},
   "outputs": [],
   "source": [
    "gdf[gdf[\"geometry\"].isnan()]"
   ]
  },
  {
   "cell_type": "code",
   "execution_count": null,
   "id": "48c6a4c7",
   "metadata": {},
   "outputs": [],
   "source": [
    "group_df = gdf[(gdf[\"year\"] == 2015) & (gdf[\"qtr\"] == 1)].reset_index(\n",
    "    drop=True\n",
    ")"
   ]
  },
  {
   "cell_type": "code",
   "execution_count": null,
   "id": "00a8bad2",
   "metadata": {},
   "outputs": [],
   "source": [
    "dc.process_death().select(pl.col(\"zipcode\")).to_series().unique()"
   ]
  },
  {
   "cell_type": "code",
   "execution_count": null,
   "id": "687a0a15",
   "metadata": {},
   "outputs": [],
   "source": [
    "group_df = gdf[(gdf[\"year\"] == 2016) & (gdf[\"qtr\"] == 1)].reset_index(\n",
    "    drop=True\n",
    ")\n",
    "# spatial_paracites = dc.calculate_spatial_lag(\n",
    "#     group_df, w, \"paracites_by_pop\"\n",
    "# )\n",
    "group_df.count()"
   ]
  },
  {
   "cell_type": "code",
   "execution_count": null,
   "id": "bbd8682f",
   "metadata": {},
   "outputs": [],
   "source": [
    "for year in range(2016, 2020):\n",
    "    for qtr in range(1, 5):\n",
    "        print(f\"{year}, {qtr}\")\n",
    "        group_df = gdf[(gdf[\"year\"] == year) & (gdf[\"qtr\"] == qtr)].reset_index(\n",
    "            drop=True\n",
    "        )\n",
    "        spatial_paracites = dc.calculate_spatial_lag(\n",
    "            group_df, w, \"paracites_by_pop\"\n",
    "        )\n",
    "        spatial_cancer = dc.calculate_spatial_lag(\n",
    "            group_df, w, \"cancer_by_pop\"\n",
    "        )\n",
    "        spatial_nervouse = dc.calculate_spatial_lag(\n",
    "            group_df, w, \"nervous_by_pop\"\n",
    "        )\n",
    "        spatial_respiratory = dc.calculate_spatial_lag(\n",
    "            group_df, w, \"respiratory_by_pop\"\n",
    "        )\n",
    "        spatial_circulatory = dc.calculate_spatial_lag(\n",
    "            group_df, w, \"circulatory_by_pop\"\n",
    "        )\n",
    "        spatial_supermarkets_and_others_area = dc.calculate_spatial_lag(\n",
    "            group_df, w, \"supermarkets_and_others_area\"\n",
    "        )\n",
    "        spatial_supermarkets_area = dc.calculate_spatial_lag(\n",
    "            group_df, w, \"supermarkets_area\"\n",
    "        )\n",
    "        spatial_convenience_retailers_area = dc.calculate_spatial_lag(\n",
    "            group_df, w, \"convenience_retailers_area\"\n",
    "        )\n",
    "        spatial_whole_foods_area = dc.calculate_spatial_lag(\n",
    "            group_df, w, \"whole_foods_area\"\n",
    "        )\n",
    "        spatial_total_food_area = dc.calculate_spatial_lag(\n",
    "            group_df, w, \"total_food_area\"\n",
    "        )\n",
    "        spatial_construction_area = dc.calculate_spatial_lag(\n",
    "            group_df, w, \"construction_area\"\n",
    "        )\n",
    "        spatial_finance_area = dc.calculate_spatial_lag(\n",
    "            group_df, w, \"finance_area\"\n",
    "        )\n",
    "        # Add the spatial lag results back to the group dataframe\n",
    "        group_df[\"w_paracites\"] = spatial_paracites.flatten()\n",
    "        group_df[\"w_cancer\"] = spatial_cancer.flatten()\n",
    "        group_df[\"w_nervouse\"] = spatial_nervouse.flatten()\n",
    "        group_df[\"w_respiratory\"] = spatial_respiratory.flatten()\n",
    "        group_df[\"w_circulatory\"] = spatial_circulatory.flatten()\n",
    "        group_df[\"w_supermarkets_and_others_area\"] = (\n",
    "            spatial_supermarkets_and_others_area.flatten()\n",
    "        )\n",
    "        group_df[\"w_supermarkets_area\"] = spatial_supermarkets_area.flatten()\n",
    "        group_df[\"w_convenience_retailers_area\"] = (\n",
    "            spatial_convenience_retailers_area.flatten()\n",
    "        )\n",
    "        group_df[\"w_whole_foods_area\"] = spatial_whole_foods_area.flatten()\n",
    "        group_df[\"w_total_food_area\"] = spatial_total_food_area.flatten()\n",
    "        group_df[\"w_construction_area\"] = spatial_construction_area.flatten()\n",
    "        group_df[\"w_finance_area\"] = spatial_finance_area.flatten()\n",
    "\n",
    "        # Append the group to the results list\n",
    "        spatial_lag_results.append(group_df)\n",
    "gdf = pd.concat(spatial_lag_results)"
   ]
  },
  {
   "cell_type": "code",
   "execution_count": null,
   "id": "aa154a0f",
   "metadata": {},
   "outputs": [],
   "source": [
    "df = dc.make_dataset()\n",
    "df"
   ]
  },
  {
   "cell_type": "code",
   "execution_count": null,
   "id": "e8558e04",
   "metadata": {},
   "outputs": [],
   "source": []
  },
  {
   "cell_type": "code",
   "execution_count": null,
   "id": "151a8f52",
   "metadata": {},
   "outputs": [],
   "source": [
    "def calculate_spatial_lag(df, w, column):\n",
    "    # Reshape y to match the number of rows in the dataframe\n",
    "    y = df[column].values.reshape(-1, 1)\n",
    "    \n",
    "    # Apply spatial lag\n",
    "    spatial_lag = weights.lag_spatial(w, y)\n",
    "    \n",
    "    return spatial_lag\n",
    "\n",
    "# Initialize an empty list to store results\n",
    "spatial_lag_results = []\n",
    "\n",
    "# Assuming `df` has 'year' and 'quarter' columns for grouping\n",
    "for year in range(2012,2019):\n",
    "    for qtr in range(1,5):\n",
    "        group_df = df[(df[\"year\"]== year) & (df[\"qtr\"] == qtr)].reset_index(drop=True)\n",
    "        spatial_lag_y = calculate_spatial_lag(group_df, w, 'total_employment')\n",
    "        spatial_lag_x = calculate_spatial_lag(group_df, w, 'k_index')\n",
    "    \n",
    "        # Add the spatial lag results back to the group dataframe\n",
    "        group_df['w_employment'] = spatial_lag_y.flatten()  # Flatten to make it 1D for the column\n",
    "        group_df['W_k_index'] = spatial_lag_x.flatten()\n",
    "        \n",
    "        # Append the group to the results list\n",
    "        spatial_lag_results.append(group_df)\n",
    "\n",
    "# Concatenate all the results back together\n",
    "reg = pd.concat(spatial_lag_results)\n",
    "reg"
   ]
  },
  {
   "cell_type": "code",
   "execution_count": null,
   "id": "957e3337",
   "metadata": {},
   "outputs": [],
   "source": [
    "# Ensure that 'data' remains a DataFrame\n",
    "data = df.copy()\n",
    "\n",
    "# Sort the data by year, quarter, and zipcode\n",
    "s\n",
    "data[data[\"zipcode\"] == \"00682\"].head(10)"
   ]
  },
  {
   "cell_type": "code",
   "execution_count": null,
   "id": "717ce5f8",
   "metadata": {},
   "outputs": [],
   "source": [
    "w = weights.Queen.from_dataframe(data[(data[\"year\"]== 2017) & (data[\"qtr\"]== 1)])"
   ]
  },
  {
   "cell_type": "code",
   "execution_count": null,
   "id": "59f1b71a",
   "metadata": {},
   "outputs": [],
   "source": []
  }
 ],
 "metadata": {
  "kernelspec": {
   "display_name": ".venv",
   "language": "python",
   "name": "python3"
  },
  "language_info": {
   "codemirror_mode": {
    "name": "ipython",
    "version": 3
   },
   "file_extension": ".py",
   "mimetype": "text/x-python",
   "name": "python",
   "nbconvert_exporter": "python",
   "pygments_lexer": "ipython3",
   "version": "3.12.9"
  }
 },
 "nbformat": 4,
 "nbformat_minor": 5
}
